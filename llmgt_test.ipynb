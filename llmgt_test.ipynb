{
 "cells": [
  {
   "cell_type": "code",
   "execution_count": null,
   "metadata": {},
   "outputs": [],
   "source": [
    "# setup OpenAI API key\n",
    "\n",
    "import getpass\n",
    "import os\n",
    "\n",
    "os.environ[\"OPENAI_API_KEY\"] = getpass.getpass()\n",
    "\n",
    "# Uncomment the below to use LangSmith. Not required.\n",
    "# os.environ[\"LANGCHAIN_API_KEY\"] = getpass.getpass()\n",
    "# os.environ[\"LANGCHAIN_TRACING_V2\"] = \"true\""
   ]
  },
  {
   "cell_type": "code",
   "execution_count": null,
   "metadata": {},
   "outputs": [],
   "source": [
    "# define Neo4j credentials and connection\n",
    "\n",
    "import os\n",
    "\n",
    "from langchain_community.graphs import Neo4jGraph\n",
    "\n",
    "os.environ[\"NEO4J_URI\"] = \"bolt://localhost:7687\"\n",
    "os.environ[\"NEO4J_USERNAME\"] = \"neo4j\"\n",
    "os.environ[\"NEO4J_PASSWORD\"] = getpass.getpass()\n",
    "\n",
    "graph = Neo4jGraph()"
   ]
  },
  {
   "cell_type": "code",
   "execution_count": null,
   "metadata": {},
   "outputs": [],
   "source": [
    "import os\n",
    "\n",
    "from langchain_experimental.graph_transformers import LLMGraphTransformer\n",
    "from langchain_openai import ChatOpenAI\n",
    "\n",
    "#llm = ChatOpenAI(temperature=0, model_name=\"gpt-3.5-turbo\")\n",
    "#llm = ChatOpenAI(temperature=0, model_name=\"gpt-4-0125-preview\")\n",
    "llm = ChatOpenAI(temperature=0, model_name=\"gpt-4\")\n",
    "\n",
    "llm_transformer = LLMGraphTransformer(llm=llm)"
   ]
  },
  {
   "cell_type": "code",
   "execution_count": null,
   "metadata": {},
   "outputs": [],
   "source": [
    "from langchain_core.documents import Document\n",
    "\n",
    "text = \"\"\"\n",
    "San Francisco Charter\n",
    "Article III: Executive Branch - Office of the Mayor\n",
    "SEC. 3.100. POWERS AND RESPONSIBILITIES.\n",
    "   The Mayor shall be the chief executive officer and the official representative of the City and County, and shall serve full time in that capacity. The Mayor shall devote his or her entire time and attention to the duties of the office, and shall not devote time or attention to any other occupation or business activity. The Mayor shall enforce all laws relating to the City and County, and accept service of process on its behalf.\n",
    "   The Mayor shall have responsibility for:\n",
    "      1.   General administration and oversight of all departments and governmental units in the executive branch of the City and County;\n",
    "      2.   Coordination of all intergovernmental activities of the City and County;\n",
    "      3.   Receipt and examination of complaints relating to the administration of the affairs of the City and County, and timely delivery of notice to the complainant of findings and actions taken;\n",
    "      4.   Assurance that appointees to various governmental positions with the City and County are qualified and are as representative of the communities of interest and diverse population of the City and County as is reasonably practicable, and are representative of both sexes;\n",
    "      5.   Submission of ordinances and resolutions by the executive branch for consideration by the Board of Supervisors;\n",
    "      6.   Presentation before the Board of Supervisors of a policies and priorities statement setting forth the Mayor's policies and budget priorities for the City and County for the ensuing fiscal year;\n",
    "      7.   Appearance, in person, at one regularly-scheduled meeting of the Board of Supervisors each month to engage in formal policy discussions with members of the Board;\n",
    "      8.   Introduction before the Board of Supervisors of the annual proposed budget or multi-year budget which shall be initiated and prepared by the Mayor. The Mayor shall seek comments and recommendations on the proposed budget from the various commissions, officers and departments; and\n",
    "      9.   Preparation of and introduction to the Board of Supervisors of supplemental appropriations.\n",
    "   The Mayor shall have the power to:\n",
    "      10.   Speak and be heard with respect to any matter at any meeting of the Board of Supervisors or any of its committees, and shall have a seat but no vote on all boards and commissions appointed by the Mayor;\n",
    "      11.   As provided in Section 3.103 of this Charter, veto any ordinance or resolution passed by the Board of Supervisors;\n",
    "      12.   Subject to the fiscal provisions of this Charter and budgetary approval by the Board of Supervisors, appoint such staff as may be needed to perform the duties and carry out the responsibilities of the Mayor's office, provided that no member of the staff shall receive a salary in excess of seventy percent of that paid the Mayor. For purposes of this provision, staff does not include the City Administrator, department heads or employees of departments placed under his or her direction by Section 3.104. Notwithstanding any other provisions or limitations of this Charter to the contrary, the Mayor may not designate nor may the City and County employ on the Mayor's behalf any person to act as deputy to the Mayor or any similar employment classification, regardless of title, whose responsibilities include but are not necessarily limited to supervision of the administration of any department for which the City Administrator, an elected official other than the Mayor or an appointed board or commission is assigned responsibility elsewhere in this Charter;\n",
    "      13.   Designate a member of the Board of Supervisors to act as Mayor in the Mayor's absence from the state or during a period of temporary disability;\n",
    "      14.   In the case of an emergency threatening the lives, property or welfare of the City and County or its citizens, the Mayor may direct the personnel and resources of any department, command the aid of other persons, and do whatever else the Mayor may deem necessary to meet the emergency;\n",
    "         In meeting an emergency, the Mayor shall act only with the concurrence of the Board of Supervisors, or a majority of its members immediately available if the emergency causes any member of the Board to be absent. The Mayor shall seek the Board's concurrence as soon as is reasonably possible in both the declaration of an emergency and in the action taken to meet the emergency. Normal notice, posting and agenda requirements of the Board of Supervisors shall not be applicable to the Board's actions pursuant to these provisions;\n",
    "      15.   Make an appointment to fill any vacancy in an elective office of the City and County until a successor shall have been elected;\n",
    "      16.   Subject to the provisions of Charter Section 2.113, submit to the voters a declaration of policy or ordinance on any matter on which the Board of Supervisors is empowered to pass;\n",
    "      17.   Have and exercise such other powers as are provided by this Charter or by law for the chief executive officer of a City and County;\n",
    "      18.   Unless otherwise specifically provided, make appointments to boards and commissions which shall be effective immediately and remain so, unless rejected by a two-thirds vote of the Board of Supervisors within 30 days following transmittal of Notice of Appointment. The Notice of Appointment shall include the appointee's qualifications to serve and a statement how the appointment represents the communities of interest, neighborhoods and diverse populations of the City and County;\n",
    "      19.   Appoint department heads subject to the provisions of this Charter; and\n",
    "      20.   Prepare and submit schedule of rates, fees and other similar charges to the Board of Supervisors.\n",
    "\"\"\"\n",
    "documents = [Document(page_content=text)]\n",
    "graph_documents = llm_transformer.convert_to_graph_documents(documents)\n",
    "print(f\"Nodes:{graph_documents[0].nodes}\")\n",
    "print(f\"Relationships:{graph_documents[0].relationships}\")"
   ]
  },
  {
   "cell_type": "code",
   "execution_count": null,
   "metadata": {},
   "outputs": [],
   "source": [
    "# add to Neo4j for viz\n",
    "graph.add_graph_documents(graph_documents)"
   ]
  },
  {
   "cell_type": "code",
   "execution_count": null,
   "metadata": {},
   "outputs": [],
   "source": [
    "llm_transformer_filtered = LLMGraphTransformer(\n",
    "    llm=llm,\n",
    "    allowed_nodes=[\"Person\", \"Country\", \"Organization\"],\n",
    "    allowed_relationships=[\"NATIONALITY\", \"LOCATED_IN\", \"WORKED_AT\", \"SPOUSE\"],\n",
    ")\n",
    "graph_documents_filtered = llm_transformer_filtered.convert_to_graph_documents(\n",
    "    documents\n",
    ")\n",
    "print(f\"Nodes:{graph_documents_filtered[0].nodes}\")\n",
    "print(f\"Relationships:{graph_documents_filtered[0].relationships}\")"
   ]
  }
 ],
 "metadata": {
  "kernelspec": {
   "display_name": "env",
   "language": "python",
   "name": "python3"
  },
  "language_info": {
   "codemirror_mode": {
    "name": "ipython",
    "version": 3
   },
   "file_extension": ".py",
   "mimetype": "text/x-python",
   "name": "python",
   "nbconvert_exporter": "python",
   "pygments_lexer": "ipython3",
   "version": "3.10.12"
  }
 },
 "nbformat": 4,
 "nbformat_minor": 2
}
